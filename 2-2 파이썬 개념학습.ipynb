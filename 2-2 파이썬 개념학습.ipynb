{
 "cells": [
  {
   "cell_type": "markdown",
   "metadata": {},
   "source": [
    "# 파이썬 개념학습"
   ]
  },
  {
   "cell_type": "markdown",
   "metadata": {},
   "source": [
    "### 제어문 및 반복문 (If, For, While)"
   ]
  },
  {
   "cell_type": "markdown",
   "metadata": {},
   "source": [
    "#### 1) If문"
   ]
  },
  {
   "cell_type": "markdown",
   "metadata": {},
   "source": [
    "- If문 구조"
   ]
  },
  {
   "cell_type": "code",
   "execution_count": null,
   "metadata": {},
   "outputs": [],
   "source": [
    "# if문은 조건에 따라 수행되는 명령이 달라짐\n",
    "if 조건1 : \n",
    "    들여쓰기한 명령문1\n",
    "else :\n",
    "    들여쓰기한 명령문2"
   ]
  },
  {
   "cell_type": "markdown",
   "metadata": {},
   "source": [
    "- If문 예제"
   ]
  },
  {
   "cell_type": "code",
   "execution_count": 4,
   "metadata": {},
   "outputs": [
    {
     "name": "stdout",
     "output_type": "stream",
     "text": [
      "일치\n"
     ]
    }
   ],
   "source": [
    "a=100 # 변수 a에 초기값으로 100을 저장\n",
    "\n",
    "# 변수 a가 100이라는 조건이 맞을 때 '일치' 출력, 아니면 '불일치' 출력\n",
    "if a == 100 :\n",
    "    print(\"일치\")\n",
    "else :\n",
    "    print(\"불일치\")"
   ]
  },
  {
   "cell_type": "code",
   "execution_count": 6,
   "metadata": {},
   "outputs": [
    {
     "name": "stdout",
     "output_type": "stream",
     "text": [
      "불일치\n"
     ]
    }
   ],
   "source": [
    "a = 200 # 변수 a에 초기값으로 200을 저장\n",
    "\n",
    "# 변수 a가 100이라는 조건이 맞지 않으므로 '불일치' 출력\n",
    "if a == 100 :\n",
    "    print(\"일치\")\n",
    "else :\n",
    "    print(\"불일치\")"
   ]
  },
  {
   "cell_type": "markdown",
   "metadata": {},
   "source": [
    "#### 2) while문"
   ]
  },
  {
   "cell_type": "markdown",
   "metadata": {},
   "source": [
    "- while문 구조"
   ]
  },
  {
   "cell_type": "code",
   "execution_count": null,
   "metadata": {},
   "outputs": [],
   "source": [
    "# whlie문은 조건에 만족하는 값이 나올 때까지 명령문들을 반복 수행\n",
    "\n",
    "while 조건문: #반복문의 헤더, 해당 반복문의 조건을 비교\n",
    "    들여쓰기한 명령문 1"
   ]
  },
  {
   "cell_type": "code",
   "execution_count": null,
   "metadata": {},
   "outputs": [],
   "source": [
    "# while문은 조건문에 만족할때까지 반복적으로 수행을 하지만\n",
    "# 중간에 break문을 사용해 강제로 while문을 종료하기도 함\n",
    "\n",
    "while 조건문: # 반복문의 헤더, 해당 반복문의 조건을 비교\n",
    "    들여쓰기한 명령문 1\n",
    "    들여쓰기한 명령문 2\n",
    "    break     # 반복문을 끝내는 부분"
   ]
  },
  {
   "cell_type": "markdown",
   "metadata": {},
   "source": [
    "- while문 예제"
   ]
  },
  {
   "cell_type": "code",
   "execution_count": 9,
   "metadata": {},
   "outputs": [
    {
     "name": "stdout",
     "output_type": "stream",
     "text": [
      "1\n",
      "2\n",
      "3\n",
      "4\n",
      "5\n"
     ]
    }
   ],
   "source": [
    "a = 1            # 변수 a에 초기값 1을 저장\n",
    "\n",
    "while a <= 5 :   # while에 대한 조건문, a 값이 5 이하가 될 때까지 반복\n",
    "    print(a)\n",
    "    a += 1"
   ]
  },
  {
   "cell_type": "markdown",
   "metadata": {},
   "source": [
    "#### 3) for문"
   ]
  },
  {
   "cell_type": "markdown",
   "metadata": {},
   "source": [
    "- for문 구조"
   ]
  },
  {
   "cell_type": "code",
   "execution_count": null,
   "metadata": {},
   "outputs": [],
   "source": [
    "# for문은 리스트, 튜플, 문자열 등을 반복적으로 실행\n",
    "# for문도 while, if문과 같이 4칸의 들여쓰기를 포함하며\n",
    "# 들여쓰기한 명령문을 실행\n",
    "for [할당하는 변수] in [데이터의 범위(리스트, 튜플, 문자열) 또는 정수]:\n",
    "    들여쓰기한 명령문 1"
   ]
  },
  {
   "cell_type": "markdown",
   "metadata": {},
   "source": [
    "- for문 예제"
   ]
  },
  {
   "cell_type": "code",
   "execution_count": 10,
   "metadata": {},
   "outputs": [
    {
     "name": "stdout",
     "output_type": "stream",
     "text": [
      "1\n",
      "2\n",
      "3\n",
      "4\n",
      "5\n"
     ]
    }
   ],
   "source": [
    "num_list = [1, 2, 3, 4, 5]\n",
    "\n",
    "for num in num_list :\n",
    "    print(num)"
   ]
  },
  {
   "cell_type": "markdown",
   "metadata": {},
   "source": [
    "### 함수"
   ]
  },
  {
   "cell_type": "markdown",
   "metadata": {},
   "source": [
    "#### 함수란?\n",
    "재사용 가능한 프로그램  \n",
    "def 통해 함수 정의  \n",
    "return을 통해 최종 반환 값  \n",
    "들여쓰기 4칸 이용해 함수 블록 생성 후 안에서 작업  \n",
    "**어떤 연산 한 번만 수행하고, 더이상 다른 곳에서 이용 하지 않을 경우 사용**"
   ]
  },
  {
   "cell_type": "markdown",
   "metadata": {},
   "source": [
    "- 함수 구조"
   ]
  },
  {
   "cell_type": "code",
   "execution_count": null,
   "metadata": {},
   "outputs": [],
   "source": [
    "def 함수명 (입력값) : #함수를 사용하여 구조를 효율적으로 만듦\n",
    "    수행문 1\n",
    "    수행문 2\n",
    "    return 출력값"
   ]
  },
  {
   "cell_type": "markdown",
   "metadata": {},
   "source": [
    "- 함수 예제"
   ]
  },
  {
   "cell_type": "code",
   "execution_count": 13,
   "metadata": {},
   "outputs": [
    {
     "data": {
      "text/plain": [
       "12"
      ]
     },
     "execution_count": 13,
     "metadata": {},
     "output_type": "execute_result"
    }
   ],
   "source": [
    "def f(x) :\n",
    "    # 함수 f(x)를 생성하고 x의 값을 입력 받음\n",
    "    # 함수를 실행하였을 때 결과값으로 입력값 x에 10을 더한 결과가 나오게 함 \n",
    "    return x + 10\n",
    "f(2)"
   ]
  },
  {
   "cell_type": "markdown",
   "metadata": {},
   "source": [
    "- 람다(Lambda)  \n",
    "함수를 만들되 익명으로 만듦  \n",
    "한 줄로 만들 수 있는 함수  \n",
    "def, return 사용 X -> 간단하게 구현  \n",
    "**일회성 함수를 구현해서 사용**"
   ]
  },
  {
   "cell_type": "code",
   "execution_count": 14,
   "metadata": {},
   "outputs": [
    {
     "name": "stdout",
     "output_type": "stream",
     "text": [
      "20\n",
      "20\n"
     ]
    }
   ],
   "source": [
    "# 함수와 lambda의 차이\n",
    "def f(x):\n",
    "    return x+10\n",
    "\n",
    "# 일반적인 함수를 이용해 함수를 구현할 때\n",
    "print(f(10))\n",
    "\n",
    "# lambda를 이용해 함수를 간단하게 구현할 때\n",
    "print((lambda x : x + 10)(10))"
   ]
  },
  {
   "cell_type": "markdown",
   "metadata": {},
   "source": [
    "- 함수 에러가 날때"
   ]
  },
  {
   "cell_type": "code",
   "execution_count": 16,
   "metadata": {},
   "outputs": [
    {
     "ename": "NameError",
     "evalue": "name 'y' is not defined",
     "output_type": "error",
     "traceback": [
      "\u001b[1;31m---------------------------------------------------------------------------\u001b[0m",
      "\u001b[1;31mNameError\u001b[0m                                 Traceback (most recent call last)",
      "\u001b[1;32m<ipython-input-16-57bd50083d04>\u001b[0m in \u001b[0;36m<module>\u001b[1;34m\u001b[0m\n\u001b[0;32m      2\u001b[0m     \u001b[1;31m# 하지만 변수가 없는 값을 넣었을 때는 에러가 발생함\u001b[0m\u001b[1;33m\u001b[0m\u001b[1;33m\u001b[0m\u001b[1;33m\u001b[0m\u001b[0m\n\u001b[0;32m      3\u001b[0m     \u001b[1;32mreturn\u001b[0m \u001b[0my\u001b[0m \u001b[1;33m+\u001b[0m \u001b[1;36m10\u001b[0m\u001b[1;33m\u001b[0m\u001b[1;33m\u001b[0m\u001b[0m\n\u001b[1;32m----> 4\u001b[1;33m \u001b[0mf\u001b[0m\u001b[1;33m(\u001b[0m\u001b[1;36m2\u001b[0m\u001b[1;33m)\u001b[0m\u001b[1;33m\u001b[0m\u001b[1;33m\u001b[0m\u001b[0m\n\u001b[0m",
      "\u001b[1;32m<ipython-input-16-57bd50083d04>\u001b[0m in \u001b[0;36mf\u001b[1;34m(x)\u001b[0m\n\u001b[0;32m      1\u001b[0m \u001b[1;32mdef\u001b[0m \u001b[0mf\u001b[0m\u001b[1;33m(\u001b[0m\u001b[0mx\u001b[0m\u001b[1;33m)\u001b[0m \u001b[1;33m:\u001b[0m\u001b[1;33m\u001b[0m\u001b[1;33m\u001b[0m\u001b[0m\n\u001b[0;32m      2\u001b[0m     \u001b[1;31m# 하지만 변수가 없는 값을 넣었을 때는 에러가 발생함\u001b[0m\u001b[1;33m\u001b[0m\u001b[1;33m\u001b[0m\u001b[1;33m\u001b[0m\u001b[0m\n\u001b[1;32m----> 3\u001b[1;33m     \u001b[1;32mreturn\u001b[0m \u001b[0my\u001b[0m \u001b[1;33m+\u001b[0m \u001b[1;36m10\u001b[0m\u001b[1;33m\u001b[0m\u001b[1;33m\u001b[0m\u001b[0m\n\u001b[0m\u001b[0;32m      4\u001b[0m \u001b[0mf\u001b[0m\u001b[1;33m(\u001b[0m\u001b[1;36m2\u001b[0m\u001b[1;33m)\u001b[0m\u001b[1;33m\u001b[0m\u001b[1;33m\u001b[0m\u001b[0m\n",
      "\u001b[1;31mNameError\u001b[0m: name 'y' is not defined"
     ]
    }
   ],
   "source": [
    "def f(x) : \n",
    "    # 하지만 변수가 없는 값을 넣었을 때는 에러가 발생함\n",
    "    return y + 10\n",
    "f(2)"
   ]
  },
  {
   "cell_type": "markdown",
   "metadata": {},
   "source": [
    "### 파이썬 패키지와 라이브러리"
   ]
  },
  {
   "cell_type": "markdown",
   "metadata": {},
   "source": [
    "#### 1) 라이브러리란?"
   ]
  },
  {
   "cell_type": "markdown",
   "metadata": {},
   "source": [
    "- 서브루틴이나 함수들의 집함\n",
    "- 정적 라이브러리(내장 라이브러리) : 파이썬 내부, 파이썬 자체에 포함\n",
    "- 동적 라이브러리(외장 라이브러리) : 외부 패키지를 파이썬 내부에서 설치해 사용\n",
    "- import 패키지           : 패키지 전체 호출\n",
    "- from 패키지 import 함수 : 패키지 중 일부 함수만 호출"
   ]
  },
  {
   "cell_type": "markdown",
   "metadata": {},
   "source": [
    "#### 2) 내장 함수"
   ]
  },
  {
   "cell_type": "markdown",
   "metadata": {},
   "source": [
    "- 파이썬이 해당 함수를 포함하고 있다\n",
    "- import로 load 안 해도 됨\n",
    "- open(), print(), input() 등"
   ]
  },
  {
   "cell_type": "code",
   "execution_count": 17,
   "metadata": {},
   "outputs": [
    {
     "name": "stdout",
     "output_type": "stream",
     "text": [
      "문장, 단어를 입력하세요 : 안녕~~\n",
      "안녕~~\n"
     ]
    }
   ],
   "source": [
    "text = input(\"문장, 단어를 입력하세요 : \")\n",
    "print(text)"
   ]
  },
  {
   "cell_type": "markdown",
   "metadata": {},
   "source": [
    "#### 3) 외장 패키지"
   ]
  },
  {
   "cell_type": "markdown",
   "metadata": {},
   "source": [
    "- 아나콘다 설치시 아나콘다 파이선 내부에 설치되어 있는 패키지들\n",
    "- numpy, pandas 등"
   ]
  },
  {
   "cell_type": "markdown",
   "metadata": {},
   "source": [
    "#### 4) 이외의 패키지"
   ]
  },
  {
   "cell_type": "markdown",
   "metadata": {},
   "source": [
    "- 아나콘다가 포함 X 패키지? -> 외장 패키지 설치해 아나콘다 내부에서 사용 가능!\n",
    "- 외장 패키지는 pip라는 패키지 관리 라이브러리 사용해서 설치, 삭제, 수정 가능\n",
    "- ex) pip install numpy"
   ]
  },
  {
   "cell_type": "markdown",
   "metadata": {},
   "source": [
    "#### 5) 패키지 쓰임새"
   ]
  },
  {
   "cell_type": "markdown",
   "metadata": {},
   "source": [
    "- 외장 패키지 설치 명령문 : pip install 라이브러리\n",
    "- 패키지는 각각의 목적에 따라 쓰임이 다름  \n",
    "   수학적인 면 : math, scipy  \n",
    "   컴퓨터 로그 분석 : logging  \n",
    "- 웹프로그래밍 분야 : Flask, Django 등\n",
    "- 데이터베이스 분야 : SQLAlchemy, PyMySQL, SQL3, PyMongo\n",
    "- 수학적 분야 : Math, SciPy\n",
    "- 이 외에도 다양한 라이브러리들이 사용됨\n",
    "- 파이썬 패키지들을 분석/개발 목적에 적합하게 사용 가능"
   ]
  },
  {
   "cell_type": "code",
   "execution_count": null,
   "metadata": {},
   "outputs": [],
   "source": []
  }
 ],
 "metadata": {
  "kernelspec": {
   "display_name": "Python 3",
   "language": "python",
   "name": "python3"
  },
  "language_info": {
   "codemirror_mode": {
    "name": "ipython",
    "version": 3
   },
   "file_extension": ".py",
   "mimetype": "text/x-python",
   "name": "python",
   "nbconvert_exporter": "python",
   "pygments_lexer": "ipython3",
   "version": "3.7.1"
  }
 },
 "nbformat": 4,
 "nbformat_minor": 2
}
