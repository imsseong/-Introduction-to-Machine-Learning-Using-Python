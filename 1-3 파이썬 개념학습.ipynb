{
 "cells": [
  {
   "cell_type": "markdown",
   "metadata": {},
   "source": [
    "## 파이썬 개념학습"
   ]
  },
  {
   "cell_type": "markdown",
   "metadata": {},
   "source": [
    "### 변수"
   ]
  },
  {
   "cell_type": "markdown",
   "metadata": {},
   "source": [
    "- 변수 선언"
   ]
  },
  {
   "cell_type": "code",
   "execution_count": 2,
   "metadata": {},
   "outputs": [],
   "source": [
    "a = 'python'"
   ]
  },
  {
   "cell_type": "markdown",
   "metadata": {},
   "source": [
    "- 변수의 예"
   ]
  },
  {
   "cell_type": "code",
   "execution_count": 3,
   "metadata": {},
   "outputs": [],
   "source": [
    "a = 'python'        #문자열 변수\n",
    "b = 123             #정수형 변수\n",
    "c = 1.2             #실수형 변수\n",
    "c = ['a', 'b']      #문자열 리스트\n",
    "d = ['name', 'lee'] #문자열 사전"
   ]
  },
  {
   "cell_type": "markdown",
   "metadata": {},
   "source": [
    "### 주석문에 대한 설명"
   ]
  },
  {
   "cell_type": "code",
   "execution_count": 4,
   "metadata": {},
   "outputs": [],
   "source": [
    "a = 100 # 주석문을 나타내는 방법"
   ]
  },
  {
   "cell_type": "code",
   "execution_count": 6,
   "metadata": {},
   "outputs": [
    {
     "data": {
      "text/plain": [
       "100"
      ]
     },
     "execution_count": 6,
     "metadata": {},
     "output_type": "execute_result"
    }
   ],
   "source": [
    "'''\n",
    "다음과 같이 주석을 나타낼 수도 있음\n",
    "'''\n",
    "a"
   ]
  },
  {
   "cell_type": "markdown",
   "metadata": {},
   "source": [
    "- 여러가지 변수 생성방법"
   ]
  },
  {
   "cell_type": "code",
   "execution_count": 9,
   "metadata": {},
   "outputs": [
    {
     "name": "stdout",
     "output_type": "stream",
     "text": [
      "var1\n",
      "var2\n",
      "['tuple1', 'tuple2']\n",
      "['list1', 'list2']\n"
     ]
    }
   ],
   "source": [
    "a, b = 'var1', 'var2'\n",
    "# a에는 var1이라는 변수가 들어가며, b에는 var2라는 변수가 들어감\n",
    "c = ['tuple1', 'tuple2']\n",
    "# c에는 tuple 자료 구조를 가진 [tuple1, tuple2] 라는 변수가 들어감\n",
    "d = ['list1', 'list2']\n",
    "# d에는 list 자료 구조를 가진 [list1, list2] 라는 변수가 들어감\n",
    "\n",
    "print(a)\n",
    "print(b)\n",
    "print(c)\n",
    "print(d)"
   ]
  },
  {
   "cell_type": "markdown",
   "metadata": {},
   "source": [
    "- 데이터 변수 에러"
   ]
  },
  {
   "cell_type": "code",
   "execution_count": 10,
   "metadata": {},
   "outputs": [
    {
     "ename": "NameError",
     "evalue": "name 'g' is not defined",
     "output_type": "error",
     "traceback": [
      "\u001b[1;31m---------------------------------------------------------------------------\u001b[0m",
      "\u001b[1;31mNameError\u001b[0m                                 Traceback (most recent call last)",
      "\u001b[1;32m<ipython-input-10-5fcf1b027b13>\u001b[0m in \u001b[0;36m<module>\u001b[1;34m\u001b[0m\n\u001b[0;32m      1\u001b[0m \u001b[0ma\u001b[0m \u001b[1;33m=\u001b[0m \u001b[1;36m10\u001b[0m \u001b[1;31m# a변수에 1d의 값을 할당\u001b[0m\u001b[1;33m\u001b[0m\u001b[1;33m\u001b[0m\u001b[0m\n\u001b[1;32m----> 2\u001b[1;33m \u001b[0mg\u001b[0m\u001b[1;33m\u001b[0m\u001b[1;33m\u001b[0m\u001b[0m\n\u001b[0m\u001b[0;32m      3\u001b[0m \u001b[1;31m# 하지만 g를 호출할 경우 g의 값은 아무 값도 할당하지 않았으므로 에러를 출력\u001b[0m\u001b[1;33m\u001b[0m\u001b[1;33m\u001b[0m\u001b[1;33m\u001b[0m\u001b[0m\n",
      "\u001b[1;31mNameError\u001b[0m: name 'g' is not defined"
     ]
    }
   ],
   "source": [
    "a = 10 # a변수에 1d의 값을 할당\n",
    "g\n",
    "# 하지만 g를 호출할 경우 g의 값은 아무 값도 할당하지 않았으므로 에러를 출력"
   ]
  },
  {
   "cell_type": "markdown",
   "metadata": {},
   "source": [
    "- 데이터 변수 형태 확인"
   ]
  },
  {
   "cell_type": "code",
   "execution_count": 11,
   "metadata": {},
   "outputs": [
    {
     "name": "stdout",
     "output_type": "stream",
     "text": [
      "a의 값은? 10\n",
      "a의 데이터 변수 형태는? :  <class 'int'>\n",
      "b의 값은? 3.14\n",
      "b의 데이터 변수 형태는? :  <class 'float'>\n",
      "c의 데이터 값은? True\n",
      "c의 데이터 변수 형태는? :  <class 'bool'>\n"
     ]
    }
   ],
   "source": [
    "a = 10    # a변수에 10의 값을 할당\n",
    "b = 3.14  # b변수에 3.14의 값을 할당\n",
    "c = True  # c변수에 True라는 값을 할당\n",
    "\n",
    "print(\"a의 값은?\", a)\n",
    "print(\"a의 데이터 변수 형태는? : \", type(a)) # a는 int형태의 값을 나타냄\n",
    "print(\"b의 값은?\", b)\n",
    "print(\"b의 데이터 변수 형태는? : \", type(b)) # b는 float형태의 값을 나타냄\n",
    "print(\"c의 데이터 값은?\", c)\n",
    "print(\"c의 데이터 변수 형태는? : \", type(c)) # c는 Boolean형태의 값을 나타냄\n"
   ]
  },
  {
   "cell_type": "markdown",
   "metadata": {},
   "source": [
    "### 자료형"
   ]
  },
  {
   "cell_type": "markdown",
   "metadata": {},
   "source": [
    "- 기본 자료형"
   ]
  },
  {
   "cell_type": "code",
   "execution_count": 14,
   "metadata": {},
   "outputs": [],
   "source": [
    "a = 100   # 정수형 변수\n",
    "b = 3.14  # 소수형 변수"
   ]
  },
  {
   "cell_type": "code",
   "execution_count": 15,
   "metadata": {},
   "outputs": [
    {
     "name": "stdout",
     "output_type": "stream",
     "text": [
      "100\n",
      "0b1100100\n",
      "0o144\n",
      "0x64\n"
     ]
    }
   ],
   "source": [
    "print(a)\n",
    "print(bin(a))\n",
    "print(oct(a))\n",
    "print(hex(a))"
   ]
  },
  {
   "cell_type": "markdown",
   "metadata": {},
   "source": [
    "- 논리형"
   ]
  },
  {
   "cell_type": "code",
   "execution_count": 16,
   "metadata": {},
   "outputs": [],
   "source": [
    "a = True"
   ]
  },
  {
   "cell_type": "code",
   "execution_count": 17,
   "metadata": {},
   "outputs": [
    {
     "data": {
      "text/plain": [
       "bool"
      ]
     },
     "execution_count": 17,
     "metadata": {},
     "output_type": "execute_result"
    }
   ],
   "source": [
    "type(a)"
   ]
  },
  {
   "cell_type": "code",
   "execution_count": 18,
   "metadata": {},
   "outputs": [],
   "source": [
    "b = False"
   ]
  },
  {
   "cell_type": "code",
   "execution_count": 19,
   "metadata": {},
   "outputs": [
    {
     "data": {
      "text/plain": [
       "bool"
      ]
     },
     "execution_count": 19,
     "metadata": {},
     "output_type": "execute_result"
    }
   ],
   "source": [
    "type(b)"
   ]
  },
  {
   "cell_type": "markdown",
   "metadata": {},
   "source": [
    "- 비교 연산자를 이용해 논리형 데이터를 표현"
   ]
  },
  {
   "cell_type": "code",
   "execution_count": 23,
   "metadata": {},
   "outputs": [
    {
     "name": "stdout",
     "output_type": "stream",
     "text": [
      "True\n",
      "False\n",
      "False\n",
      "False\n",
      "True\n",
      "True\n"
     ]
    }
   ],
   "source": [
    "print(10 == 10) # 두 값이 같은 경우 True를 출력\n",
    "print(10 != 10) # 두 값이 같지 않은 경우 True를 출력\n",
    "\n",
    "# 두 값 중 우측에 있는 값이 큰 경우 True를 출력 그렇지 않은 경우 False를 출력\n",
    "print(10 < 10)\n",
    "\n",
    "# 두 값 중 좌측에 있는 값이 큰 경우 True를 출력 그렇지 않은 경우 False를 출력\n",
    "print(10 > 10)\n",
    "\n",
    "# 두 값 중 우측에 있는 값이 크거나 같은 경우 True를 출력 그렇지 않은 경우 False를 출력\n",
    "print(10 <= 10)\n",
    "\n",
    "# 두 값 중 좌측에 있는 값이 크거나 같은 경우 True를 출력 그렇지 않은 경우 False를 출력\n",
    "print(10 >= 10)"
   ]
  },
  {
   "cell_type": "markdown",
   "metadata": {},
   "source": [
    "- 문자열"
   ]
  },
  {
   "cell_type": "code",
   "execution_count": 24,
   "metadata": {},
   "outputs": [
    {
     "data": {
      "text/plain": [
       "'안녕하세요. 반갑습니다.'"
      ]
     },
     "execution_count": 24,
     "metadata": {},
     "output_type": "execute_result"
    }
   ],
   "source": [
    "# sentence라는 변수에 두개의 문자열을 넣음\n",
    "sentence = '안녕하세요. ' + '반갑습니다.'\n",
    "sentence"
   ]
  },
  {
   "cell_type": "code",
   "execution_count": 25,
   "metadata": {},
   "outputs": [
    {
     "data": {
      "text/plain": [
       "['안녕하세요.', '반갑습니다.']"
      ]
     },
     "execution_count": 25,
     "metadata": {},
     "output_type": "execute_result"
    }
   ],
   "source": [
    "sentence.split() # sentence라는 변수를 띄어쓰기를 기준으로 split 함수를 사용"
   ]
  },
  {
   "cell_type": "code",
   "execution_count": 26,
   "metadata": {},
   "outputs": [
    {
     "data": {
      "text/plain": [
       "7"
      ]
     },
     "execution_count": 26,
     "metadata": {},
     "output_type": "execute_result"
    }
   ],
   "source": [
    "# sentence라는 변수에 반갑습니다라는 단어를 찾기 위해 find 함수를 사용\n",
    "sentence.find('반갑습니다')"
   ]
  },
  {
   "cell_type": "code",
   "execution_count": 27,
   "metadata": {},
   "outputs": [
    {
     "data": {
      "text/plain": [
       "-1"
      ]
     },
     "execution_count": 27,
     "metadata": {},
     "output_type": "execute_result"
    }
   ],
   "source": [
    "# 만약 sentence라는 변수에 해당 문자열이 없을 시 -1 을 리턴함\n",
    "sentence.find('python')"
   ]
  },
  {
   "cell_type": "code",
   "execution_count": 28,
   "metadata": {},
   "outputs": [
    {
     "data": {
      "text/plain": [
       "'안녕하세요! 반갑습니다!'"
      ]
     },
     "execution_count": 28,
     "metadata": {},
     "output_type": "execute_result"
    }
   ],
   "source": [
    "# sentence라는 변수에서 '.' 문자를 '!' 문자로 변환하기 위해 replace 함수 사용\n",
    "sentence.replace('.', '!')"
   ]
  },
  {
   "cell_type": "code",
   "execution_count": 29,
   "metadata": {},
   "outputs": [
    {
     "data": {
      "text/plain": [
       "'하세요. 반갑습니다.'"
      ]
     },
     "execution_count": 29,
     "metadata": {},
     "output_type": "execute_result"
    }
   ],
   "source": [
    "# sentence라는 변수에서 '안녕' 이라는 문자를 제거하기 위해 strip 함수 사용\n",
    "sentence.strip('안녕')"
   ]
  },
  {
   "cell_type": "markdown",
   "metadata": {},
   "source": [
    "### 자료구조"
   ]
  },
  {
   "cell_type": "markdown",
   "metadata": {},
   "source": [
    "#### (1) 리스트"
   ]
  },
  {
   "cell_type": "code",
   "execution_count": 30,
   "metadata": {},
   "outputs": [
    {
     "name": "stdout",
     "output_type": "stream",
     "text": [
      "[10, 20, 30, 40, 50, 60]\n",
      "<class 'list'>\n"
     ]
    }
   ],
   "source": [
    "# 리스트의 형태\n",
    "data = [10, 20, 30, 40, 50, 60] # data를 list 형태로 생성\n",
    "print(data)\n",
    "print(type(data))"
   ]
  },
  {
   "cell_type": "code",
   "execution_count": 31,
   "metadata": {},
   "outputs": [
    {
     "name": "stdout",
     "output_type": "stream",
     "text": [
      "10\n",
      "50\n",
      "[10, 20, 30, 40, 50, 60]\n",
      "[50, 20, 30, 40, 50, 60]\n"
     ]
    }
   ],
   "source": [
    "print(data[0])    # list 형태의 data[0]번째를 출력함\n",
    "print(data[4])    # list 형태의 data[4]번째를 출력함\n",
    "\n",
    "print(data)       # data에 저장된 값을 출력\n",
    "data[0] = data[4] # data[4]번째 값을 data[0]번째에도 같이 저장\n",
    "print(data)"
   ]
  },
  {
   "cell_type": "markdown",
   "metadata": {},
   "source": [
    "#### (2) 리스트 인덱싱(indexing)"
   ]
  },
  {
   "cell_type": "code",
   "execution_count": 32,
   "metadata": {},
   "outputs": [
    {
     "name": "stdout",
     "output_type": "stream",
     "text": [
      "['사과', '배', '포도', '딸기', '토마토', '멜론']\n",
      "리스트 인덱싱을 통해 하나의 값을 표현 :  사과\n"
     ]
    }
   ],
   "source": [
    "# data 변수 안에 저장된 리스트 목록\n",
    "data = ['사과', '배', '포도', '딸기', '토마토', '멜론']\n",
    "print(data)\n",
    "\n",
    "# 인덱싱을 통해 리스트 내의 하나의 값을 표현하는 방법\n",
    "print(\"리스트 인덱싱을 통해 하나의 값을 표현 : \", data[0])\n"
   ]
  },
  {
   "cell_type": "markdown",
   "metadata": {},
   "source": [
    "#### (3) 리스트 슬라이싱(slicing)"
   ]
  },
  {
   "cell_type": "code",
   "execution_count": 33,
   "metadata": {},
   "outputs": [
    {
     "name": "stdout",
     "output_type": "stream",
     "text": [
      "리스트 슬라이싱을 통해 여러 값을 표현 :  ['포도', '딸기']\n"
     ]
    }
   ],
   "source": [
    "data = ['사과', '배', '포도', '딸기', '토마토', '멜론']\n",
    "\n",
    "# 슬라이싱을 통해 리스트 내의 다수의 값을 나타낼 때 표현하는 방법\n",
    "print(\"리스트 슬라이싱을 통해 여러 값을 표현 : \", data[2 : 4])"
   ]
  },
  {
   "cell_type": "markdown",
   "metadata": {},
   "source": [
    "- 리스트 인덱싱과 슬라이싱에서 발생하는 에러"
   ]
  },
  {
   "cell_type": "code",
   "execution_count": 34,
   "metadata": {},
   "outputs": [
    {
     "name": "stdout",
     "output_type": "stream",
     "text": [
      "['사과', '배', '포도', '딸기', '토마토', '멜론']\n"
     ]
    },
    {
     "ename": "IndexError",
     "evalue": "list index out of range",
     "output_type": "error",
     "traceback": [
      "\u001b[1;31m---------------------------------------------------------------------------\u001b[0m",
      "\u001b[1;31mIndexError\u001b[0m                                Traceback (most recent call last)",
      "\u001b[1;32m<ipython-input-34-b0e0b1387b3e>\u001b[0m in \u001b[0;36m<module>\u001b[1;34m\u001b[0m\n\u001b[0;32m      2\u001b[0m \u001b[0mprint\u001b[0m\u001b[1;33m(\u001b[0m\u001b[0mdata\u001b[0m\u001b[1;33m)\u001b[0m\u001b[1;33m\u001b[0m\u001b[1;33m\u001b[0m\u001b[0m\n\u001b[0;32m      3\u001b[0m \u001b[1;33m\u001b[0m\u001b[0m\n\u001b[1;32m----> 4\u001b[1;33m \u001b[0mprint\u001b[0m\u001b[1;33m(\u001b[0m\u001b[0mdata\u001b[0m\u001b[1;33m[\u001b[0m\u001b[1;36m10\u001b[0m\u001b[1;33m]\u001b[0m\u001b[1;33m)\u001b[0m\u001b[1;33m\u001b[0m\u001b[1;33m\u001b[0m\u001b[0m\n\u001b[0m",
      "\u001b[1;31mIndexError\u001b[0m: list index out of range"
     ]
    }
   ],
   "source": [
    "data = ['사과', '배', '포도', '딸기', '토마토', '멜론']\n",
    "print(data)\n",
    "\n",
    "print(data[10])"
   ]
  },
  {
   "cell_type": "markdown",
   "metadata": {},
   "source": [
    "#### (4) 리스트 기초 현상"
   ]
  },
  {
   "cell_type": "markdown",
   "metadata": {},
   "source": [
    "- 여러 개의 리스트를 하나의 리스트로 병합"
   ]
  },
  {
   "cell_type": "code",
   "execution_count": 35,
   "metadata": {},
   "outputs": [
    {
     "data": {
      "text/plain": [
       "[10, 20, 30, 40, 50, 5, 10, 15, 20, 25]"
      ]
     },
     "execution_count": 35,
     "metadata": {},
     "output_type": "execute_result"
    }
   ],
   "source": [
    "data_1 = [10, 20, 30, 40, 50] # 리스트형 data_1의 값\n",
    "data_2 = [5, 10, 15, 20, 25]  # 리스트형 data_2의 값\n",
    "\n",
    "# data_1과 data_2를 합쳤을 때 하나로 합쳐진 데이터 형태를 볼 수 있음\n",
    "data_1 + data_2"
   ]
  },
  {
   "cell_type": "markdown",
   "metadata": {},
   "source": [
    "- 리스트 데이터를 추가 및 삭제"
   ]
  },
  {
   "cell_type": "markdown",
   "metadata": {},
   "source": [
    "#### 1) 리스트의 append 함수를 이용해 데이터를 추가하는 방법"
   ]
  },
  {
   "cell_type": "code",
   "execution_count": 39,
   "metadata": {},
   "outputs": [
    {
     "name": "stdout",
     "output_type": "stream",
     "text": [
      "[1, 100, 'python']\n",
      "<class 'list'>\n",
      "\n",
      "py라는 값을 추가한 후의 lists :  [1, 100, 'python', 'py']\n"
     ]
    }
   ],
   "source": [
    "lists = [1, 100, 'python']\n",
    "print(lists)\n",
    "print(type(lists))\n",
    "print()\n",
    "\n",
    "# lists의 리스트에 py라는 값을 append 함수를 이용해 데이터를 추가\n",
    "lists.append('py')\n",
    "print(\"py라는 값을 추가한 후의 lists : \", lists) # lists에 추가된 py라는 값을 확인"
   ]
  },
  {
   "cell_type": "markdown",
   "metadata": {},
   "source": [
    "#### 1) 리스트의 insert 함수를 이용해 데이터를 추가하는 방법"
   ]
  },
  {
   "cell_type": "code",
   "execution_count": 40,
   "metadata": {},
   "outputs": [
    {
     "name": "stdout",
     "output_type": "stream",
     "text": [
      "[1, 100, 'python']\n",
      "<class 'list'>\n",
      "\n"
     ]
    },
    {
     "data": {
      "text/plain": [
       "[1, '0.2', 100, 'python']"
      ]
     },
     "execution_count": 40,
     "metadata": {},
     "output_type": "execute_result"
    }
   ],
   "source": [
    "lists = [1, 100, 'python']\n",
    "print(lists)\n",
    "print(type(lists))\n",
    "print()\n",
    "\n",
    "# lists의 리스트에 0.2 라는 값을 insert 함수를 이용해 데이터를 추가\n",
    "lists.insert(1, '0.2')\n",
    "lists"
   ]
  },
  {
   "cell_type": "markdown",
   "metadata": {},
   "source": [
    "- 리스트 데이터를 추가 및 삭제"
   ]
  },
  {
   "cell_type": "code",
   "execution_count": 41,
   "metadata": {},
   "outputs": [
    {
     "name": "stdout",
     "output_type": "stream",
     "text": [
      "[1, '0.2', 100, 'python']\n",
      "[1, '0.2', 100]\n"
     ]
    }
   ],
   "source": [
    "print(lists)\n",
    "\n",
    "lists.remove('python') # remove 함수를 이용해 리스트의 'python' 값을 제거\n",
    "print(lists)"
   ]
  },
  {
   "cell_type": "markdown",
   "metadata": {},
   "source": [
    "- 리스트 데이터의 최대, 최소값 구하기"
   ]
  },
  {
   "cell_type": "code",
   "execution_count": 42,
   "metadata": {},
   "outputs": [
    {
     "name": "stdout",
     "output_type": "stream",
     "text": [
      "리스트 내의 최소값을 찾을 때 :  10\n",
      "리스트 내의 최대값을 찾을 때 :  70\n"
     ]
    }
   ],
   "source": [
    "data_list = [10, 20, 30, 40, 50, 60, 70]\n",
    "\n",
    "# min 함수를 이용해 리스트 데이터 중 최소값을 검색\n",
    "print(\"리스트 내의 최소값을 찾을 때 : \", min(data_list))\n",
    "\n",
    "# max 함수를 이용해 리스트 데이터 중 최대값을 검색\n",
    "print(\"리스트 내의 최대값을 찾을 때 : \", max(data_list))"
   ]
  },
  {
   "cell_type": "markdown",
   "metadata": {},
   "source": [
    "- 리스트 데이터 정렬하기"
   ]
  },
  {
   "cell_type": "code",
   "execution_count": 43,
   "metadata": {},
   "outputs": [
    {
     "name": "stdout",
     "output_type": "stream",
     "text": [
      "[10, 20, 30, 40, 50, 60, 90]\n"
     ]
    }
   ],
   "source": [
    "data_list = [50, 20, 40, 30, 10, 60, 90]\n",
    "\n",
    "# sort 함수를 이용해 리스트 데이터의 순서를 정렬(오름차순)\n",
    "data_list.sort()\n",
    "print(data_list)"
   ]
  },
  {
   "cell_type": "code",
   "execution_count": 44,
   "metadata": {},
   "outputs": [
    {
     "name": "stdout",
     "output_type": "stream",
     "text": [
      "[1, 2, 3, 4, 5, 6, 1]\n"
     ]
    }
   ],
   "source": [
    "a = [1,2,3,4,5]\n",
    "\n",
    "b = [1,5]\n",
    "\n",
    "a.append(6)\n",
    "\n",
    "b.remove(5)\n",
    "\n",
    "print(a+b)"
   ]
  },
  {
   "cell_type": "code",
   "execution_count": null,
   "metadata": {},
   "outputs": [],
   "source": []
  },
  {
   "cell_type": "code",
   "execution_count": null,
   "metadata": {},
   "outputs": [],
   "source": []
  }
 ],
 "metadata": {
  "kernelspec": {
   "display_name": "Python 3",
   "language": "python",
   "name": "python3"
  },
  "language_info": {
   "codemirror_mode": {
    "name": "ipython",
    "version": 3
   },
   "file_extension": ".py",
   "mimetype": "text/x-python",
   "name": "python",
   "nbconvert_exporter": "python",
   "pygments_lexer": "ipython3",
   "version": "3.7.1"
  }
 },
 "nbformat": 4,
 "nbformat_minor": 2
}
