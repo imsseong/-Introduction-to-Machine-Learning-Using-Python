{
 "cells": [
  {
   "cell_type": "markdown",
   "metadata": {},
   "source": [
    "# 자료구조"
   ]
  },
  {
   "cell_type": "markdown",
   "metadata": {},
   "source": [
    "## 튜플(Tuple)"
   ]
  },
  {
   "cell_type": "markdown",
   "metadata": {},
   "source": [
    "### 튜플이란?"
   ]
  },
  {
   "cell_type": "markdown",
   "metadata": {},
   "source": [
    "- 리스트와 유사한 구조를 가진 자료구조\n",
    "- 직접 변경할 수 없으며 append, insert 함수 사용 불가능\n",
    "- 즉 튜플 내 데이터는 변경이 불가능"
   ]
  },
  {
   "cell_type": "code",
   "execution_count": 1,
   "metadata": {},
   "outputs": [
    {
     "name": "stdout",
     "output_type": "stream",
     "text": [
      "('사과', '배', '포도', '토마토', '딸기')\n",
      "<class 'tuple'>\n"
     ]
    }
   ],
   "source": [
    "# 튜플의 기본 구조\n",
    "data = (\"사과\", \"배\", \"포도\", \"토마토\", \"딸기\")   # 소괄호 !!!!\n",
    "\n",
    "print(data)\n",
    "print(type(data))"
   ]
  },
  {
   "cell_type": "code",
   "execution_count": 2,
   "metadata": {},
   "outputs": [
    {
     "ename": "TypeError",
     "evalue": "'tuple' object does not support item assignment",
     "output_type": "error",
     "traceback": [
      "\u001b[1;31m---------------------------------------------------------------------------\u001b[0m",
      "\u001b[1;31mTypeError\u001b[0m                                 Traceback (most recent call last)",
      "\u001b[1;32m<ipython-input-2-45d361597181>\u001b[0m in \u001b[0;36m<module>\u001b[1;34m\u001b[0m\n\u001b[1;32m----> 1\u001b[1;33m \u001b[0mdata\u001b[0m\u001b[1;33m[\u001b[0m\u001b[1;36m0\u001b[0m\u001b[1;33m]\u001b[0m \u001b[1;33m=\u001b[0m \u001b[1;36m100\u001b[0m\u001b[1;33m\u001b[0m\u001b[1;33m\u001b[0m\u001b[0m\n\u001b[0m",
      "\u001b[1;31mTypeError\u001b[0m: 'tuple' object does not support item assignment"
     ]
    }
   ],
   "source": [
    "data[0] = 100"
   ]
  },
  {
   "cell_type": "markdown",
   "metadata": {},
   "source": [
    "### 튜플의 기본 연산"
   ]
  },
  {
   "cell_type": "markdown",
   "metadata": {},
   "source": [
    "- 튜플 전체 데이터 수 검색 : count 함수 이용"
   ]
  },
  {
   "cell_type": "code",
   "execution_count": 5,
   "metadata": {},
   "outputs": [
    {
     "name": "stdout",
     "output_type": "stream",
     "text": [
      "<class 'tuple'>\n",
      "3\n"
     ]
    }
   ],
   "source": [
    "data = (100, 200, 100, 300, 100, 500)\n",
    "print(type(data))\n",
    "\n",
    "# 튜플은 Count 함수를 이용해 해당 데이터의 개수를 확인가능함\n",
    "print(data.count(100))"
   ]
  },
  {
   "cell_type": "markdown",
   "metadata": {},
   "source": [
    "- 튜플 슬라이싱(slicing)"
   ]
  },
  {
   "cell_type": "code",
   "execution_count": 7,
   "metadata": {},
   "outputs": [
    {
     "name": "stdout",
     "output_type": "stream",
     "text": [
      "<class 'tuple'>\n",
      "(100, 300)\n"
     ]
    }
   ],
   "source": [
    "data = (100, 200, 100, 300, 100, 500)\n",
    "print(type(data))\n",
    "\n",
    "# 튜플은 리스트와 같이 데이터의 슬라이싱이 가능\n",
    "print(data[2 : 4])    #인덱스 2와 3의 데이터 출력"
   ]
  },
  {
   "cell_type": "markdown",
   "metadata": {},
   "source": [
    "- 두 개의 튜플 데이터 병합 : 덧셈 연산자 이용"
   ]
  },
  {
   "cell_type": "code",
   "execution_count": 9,
   "metadata": {},
   "outputs": [
    {
     "name": "stdout",
     "output_type": "stream",
     "text": [
      "('사과', '배', '포도', '토마토', '딸기', 100, 200, 300, 400, 500)\n"
     ]
    }
   ],
   "source": [
    "data1 = (\"사과\", \"배\", \"포도\", \"토마토\", \"딸기\")\n",
    "data2 = (100, 200, 300, 400, 500)\n",
    "\n",
    "# 두 개의 튜플 데이터를 덧셈 연산자를 통해 하나로 통합\n",
    "data = data1 + data2\n",
    "print(data)"
   ]
  },
  {
   "cell_type": "markdown",
   "metadata": {},
   "source": [
    "- 튜플 데이터 반복 : 곱셈 연산자 이용"
   ]
  },
  {
   "cell_type": "code",
   "execution_count": 10,
   "metadata": {},
   "outputs": [
    {
     "name": "stdout",
     "output_type": "stream",
     "text": [
      "('사과', '배', '포도', '토마토', '딸기', '사과', '배', '포도', '토마토', '딸기')\n"
     ]
    }
   ],
   "source": [
    "data = (\"사과\", \"배\", \"포도\", \"토마토\", \"딸기\")\n",
    "\n",
    "# 튜플 데이터는 곱셈 연산자를 이용해 데이터를 반복할 수 있음\n",
    "print(data * 2)"
   ]
  },
  {
   "cell_type": "markdown",
   "metadata": {},
   "source": [
    "## 세트(set)"
   ]
  },
  {
   "cell_type": "markdown",
   "metadata": {},
   "source": [
    "### 세트란?"
   ]
  },
  {
   "cell_type": "markdown",
   "metadata": {},
   "source": [
    "- 수학에서 배웠던 집합\n",
    "- 순서에 상관없고 중복을 허용하지 않는 자료구조\n",
    "- 중괄호 기호 {} 안에 항목들을 쉼표로 분리 {항목1, 항목2}\n",
    "- 변경 가능한 객체 -> 데이터 추가 삭제 가능\n",
    "- 인덱스가 없어서 인덱싱이나 연산 불가능"
   ]
  },
  {
   "cell_type": "code",
   "execution_count": 11,
   "metadata": {},
   "outputs": [
    {
     "name": "stdout",
     "output_type": "stream",
     "text": [
      "{200, 100, 300}\n",
      "<class 'set'>\n"
     ]
    }
   ],
   "source": [
    "data = {100, 200, 300}\n",
    "print(data)\n",
    "print(type(data))"
   ]
  },
  {
   "cell_type": "code",
   "execution_count": 12,
   "metadata": {},
   "outputs": [
    {
     "name": "stdout",
     "output_type": "stream",
     "text": [
      "{100, 200, 300, 400, 500, 600, 700}\n",
      "<class 'set'>\n"
     ]
    },
    {
     "ename": "TypeError",
     "evalue": "'set' object is not subscriptable",
     "output_type": "error",
     "traceback": [
      "\u001b[1;31m---------------------------------------------------------------------------\u001b[0m",
      "\u001b[1;31mTypeError\u001b[0m                                 Traceback (most recent call last)",
      "\u001b[1;32m<ipython-input-12-943ed3c116c0>\u001b[0m in \u001b[0;36m<module>\u001b[1;34m\u001b[0m\n\u001b[0;32m      4\u001b[0m \u001b[1;33m\u001b[0m\u001b[0m\n\u001b[0;32m      5\u001b[0m \u001b[1;31m# set 자료구조는 인덱싱과 슬라이싱이 불가능\u001b[0m\u001b[1;33m\u001b[0m\u001b[1;33m\u001b[0m\u001b[1;33m\u001b[0m\u001b[0m\n\u001b[1;32m----> 6\u001b[1;33m \u001b[0mdata\u001b[0m\u001b[1;33m[\u001b[0m\u001b[1;36m0\u001b[0m \u001b[1;33m:\u001b[0m \u001b[1;36m4\u001b[0m\u001b[1;33m]\u001b[0m\u001b[1;33m\u001b[0m\u001b[1;33m\u001b[0m\u001b[0m\n\u001b[0m",
      "\u001b[1;31mTypeError\u001b[0m: 'set' object is not subscriptable"
     ]
    }
   ],
   "source": [
    "data = {100, 200, 300, 400, 500, 600, 700}\n",
    "print(data)\n",
    "print(type(data))\n",
    "\n",
    "# set 자료구조는 인덱싱과 슬라이싱이 불가능\n",
    "data[0 : 4]"
   ]
  },
  {
   "cell_type": "markdown",
   "metadata": {},
   "source": [
    "### 기본연산"
   ]
  },
  {
   "cell_type": "markdown",
   "metadata": {},
   "source": [
    "- 데이터 추가 : add 함수 이용"
   ]
  },
  {
   "cell_type": "code",
   "execution_count": 13,
   "metadata": {},
   "outputs": [
    {
     "name": "stdout",
     "output_type": "stream",
     "text": [
      "{100, 200, 300, 400, 500, 600}\n",
      "{100, 200, 300, 400, 500, 600, 700}\n"
     ]
    }
   ],
   "source": [
    "data = {100, 200, 300, 400, 500, 600}\n",
    "print(data)\n",
    "\n",
    "# 세트 자료구조는 add 함수를 이용해 데이터를 추가할 수 있음\n",
    "data.add(700)\n",
    "print(data)"
   ]
  },
  {
   "cell_type": "markdown",
   "metadata": {},
   "source": [
    "- 데이터 업데이트 : update 함수 이용"
   ]
  },
  {
   "cell_type": "code",
   "execution_count": 14,
   "metadata": {},
   "outputs": [
    {
     "name": "stdout",
     "output_type": "stream",
     "text": [
      "여러 개의 데이터를 추가하기 전\n",
      "{100}\n",
      "\n",
      "여러 개의 데이터를 추가한 후\n",
      "{100, 200, 300, 400, 500, 600}\n"
     ]
    }
   ],
   "source": [
    "data = {100}\n",
    "print(\"여러 개의 데이터를 추가하기 전\")\n",
    "print(data)\n",
    "\n",
    "print() # 빈줄\n",
    "#세트 자료구조에서 여러 개의 데이터를 추가할 때는 update 함수를 이용해 추가\n",
    "data.update([200, 300, 400, 500, 600])\n",
    "print(\"여러 개의 데이터를 추가한 후\")\n",
    "print(data)"
   ]
  },
  {
   "cell_type": "markdown",
   "metadata": {},
   "source": [
    "- 데이터 삭제 : remove 함수 이용"
   ]
  },
  {
   "cell_type": "code",
   "execution_count": 15,
   "metadata": {},
   "outputs": [
    {
     "name": "stdout",
     "output_type": "stream",
     "text": [
      "데이터를 삭제하기 전\n",
      "{100, 200, 300, 400, 500, 600}\n",
      "\n",
      "데이터를 삭제한 후\n",
      "{100, 200, 300, 400, 500}\n"
     ]
    }
   ],
   "source": [
    "data = {100, 200, 300, 400, 500, 600}\n",
    "print(\"데이터를 삭제하기 전\")\n",
    "print(data)\n",
    "\n",
    "print()\n",
    "# 세트 자료구조에서는 remove 함수를 이용해 데이터를 제거\n",
    "data.remove(600)\n",
    "\n",
    "print(\"데이터를 삭제한 후\")\n",
    "print(data)"
   ]
  },
  {
   "cell_type": "markdown",
   "metadata": {},
   "source": [
    "- 세트 데이터 초기화 : clear 함수 이용"
   ]
  },
  {
   "cell_type": "code",
   "execution_count": 16,
   "metadata": {},
   "outputs": [
    {
     "name": "stdout",
     "output_type": "stream",
     "text": [
      "데이터를 삭제하기 전\n",
      "{100, 200, 300, 400, 500, 600}\n",
      "\n",
      "set()\n"
     ]
    }
   ],
   "source": [
    "data = {100, 200, 300, 400, 500, 600}\n",
    "print(\"데이터를 삭제하기 전\")\n",
    "print(data)\n",
    "\n",
    "print()\n",
    "# 세트 자료구조에서는 clear 함수를 이용해 전체 데이터를 초기화\n",
    "data.clear()\n",
    "print(data)"
   ]
  },
  {
   "cell_type": "markdown",
   "metadata": {},
   "source": [
    "### 집합연산"
   ]
  },
  {
   "cell_type": "markdown",
   "metadata": {},
   "source": [
    "- 교집합 : intersection 함수"
   ]
  },
  {
   "cell_type": "code",
   "execution_count": 19,
   "metadata": {},
   "outputs": [
    {
     "name": "stdout",
     "output_type": "stream",
     "text": [
      "{100, 200, 300, 400, 500}\n",
      "<class 'set'>\n",
      "{100, 200, 300, 150, 250}\n",
      "<class 'set'>\n",
      "\n",
      "intersection은 교집합을 나타내는 함수\n",
      "{200, 100, 300}\n",
      "{200, 100, 300}\n",
      "{200, 100, 300}\n"
     ]
    }
   ],
   "source": [
    "A = {100, 200, 300, 400, 500}\n",
    "B = {100, 150, 200, 250, 300}\n",
    "print(A)\n",
    "print(type(A))\n",
    "print(B)\n",
    "print(type(B))\n",
    "\n",
    "# intersection함수는 교집합을 나타내는 함수\n",
    "print()\n",
    "print(\"intersection은 교집합을 나타내는 함수\")\n",
    "print(A.intersection(B))\n",
    "print(B.intersection(A))\n",
    "print(A & B)"
   ]
  },
  {
   "cell_type": "markdown",
   "metadata": {},
   "source": [
    "- 차집합 : difference 함수"
   ]
  },
  {
   "cell_type": "code",
   "execution_count": 20,
   "metadata": {},
   "outputs": [
    {
     "name": "stdout",
     "output_type": "stream",
     "text": [
      "{100, 200, 300, 400, 500}\n",
      "<class 'set'>\n",
      "{100, 200, 300, 150, 250}\n",
      "<class 'set'>\n",
      "\n",
      "difference함수는 차집합을 나타내는 함수\n",
      "{400, 500}\n",
      "{250, 150}\n",
      "{400, 500}\n",
      "{250, 150}\n"
     ]
    }
   ],
   "source": [
    "A = {100, 200, 300, 400, 500}\n",
    "B = {100, 150, 200, 250, 300}\n",
    "print(A)\n",
    "print(type(A))\n",
    "print(B)\n",
    "print(type(B))\n",
    "\n",
    "# difference함수는 차집합을 나타내는 함수\n",
    "print()\n",
    "print(\"difference함수는 차집합을 나타내는 함수\")\n",
    "print(A.difference(B))\n",
    "print(B.difference(A))\n",
    "print(A - B)\n",
    "print(B - A)"
   ]
  },
  {
   "cell_type": "markdown",
   "metadata": {},
   "source": [
    "- 합집함 : union 함수"
   ]
  },
  {
   "cell_type": "code",
   "execution_count": 21,
   "metadata": {},
   "outputs": [
    {
     "name": "stdout",
     "output_type": "stream",
     "text": [
      "{100, 200, 300, 400, 500}\n",
      "<class 'set'>\n",
      "{100, 200, 300, 150, 250}\n",
      "<class 'set'>\n",
      "\n",
      "union은 합집합을 나타내는 함수\n",
      "{100, 200, 300, 400, 500, 150, 250}\n",
      "{100, 200, 300, 400, 500, 150, 250}\n",
      "{100, 200, 300, 400, 500, 150, 250}\n"
     ]
    }
   ],
   "source": [
    "A = {100, 200, 300, 400, 500}\n",
    "B = {100, 150, 200, 250, 300}\n",
    "print(A)\n",
    "print(type(A))\n",
    "print(B)\n",
    "print(type(B))\n",
    "\n",
    "# union함수는 합집합을 나타내는 함수\n",
    "print()\n",
    "print(\"union은 합집합을 나타내는 함수\")\n",
    "print(A.union(B))\n",
    "print(B.union(A))\n",
    "print(A | B)"
   ]
  },
  {
   "cell_type": "markdown",
   "metadata": {},
   "source": [
    "- 합집합에서 교집합을 뺀 집합 : symmetric_difference 함수"
   ]
  },
  {
   "cell_type": "code",
   "execution_count": 23,
   "metadata": {},
   "outputs": [
    {
     "name": "stdout",
     "output_type": "stream",
     "text": [
      "{100, 200, 300, 400, 500}\n",
      "<class 'set'>\n",
      "{100, 200, 300, 150, 250}\n",
      "<class 'set'>\n",
      "\n",
      "symmetric_difference함수는 합집합에서 교집합을 뺀 나머지 집합을 나타내는 수\n",
      "{400, 500, 150, 250}\n",
      "{400, 500, 150, 250}\n"
     ]
    }
   ],
   "source": [
    "A = {100, 200, 300, 400, 500}\n",
    "B = {100, 150, 200, 250, 300}\n",
    "print(A)\n",
    "print(type(A))\n",
    "print(B)\n",
    "print(type(B))\n",
    "\n",
    "# symmetric_difference함수는 합집합에서 교집합을 뺀 나머지 집합을 나타내는 함수\n",
    "print()\n",
    "print(\"symmetric_difference함수는 합집합에서 교집합을 뺀 나머지 집합을 나타내는 수\")\n",
    "print(A.symmetric_difference(B))\n",
    "print(B.symmetric_difference(A))"
   ]
  },
  {
   "cell_type": "markdown",
   "metadata": {},
   "source": [
    "## 딕셔너리 (Dictionary)"
   ]
  },
  {
   "cell_type": "markdown",
   "metadata": {},
   "source": [
    "### 딕셔너리란?"
   ]
  },
  {
   "cell_type": "markdown",
   "metadata": {},
   "source": [
    "- 사전이라는 의미\n",
    "- Key와 Value로 표현\n",
    "- 중괄호 {} 안에 쉼푤 항목을 분리"
   ]
  },
  {
   "cell_type": "markdown",
   "metadata": {},
   "source": [
    "### 기본구조"
   ]
  },
  {
   "cell_type": "code",
   "execution_count": 24,
   "metadata": {},
   "outputs": [
    {
     "name": "stdout",
     "output_type": "stream",
     "text": [
      "{'사과': 300, '배': 200, '포도': 500, '딸기': 700}\n",
      "<class 'dict'>\n"
     ]
    }
   ],
   "source": [
    "# 딕셔너리(dictionary)의 기본 구조는 다음과 같이 표현할 수 있다\n",
    "data = {\"사과\" : 300, \"배\" : 200, \"포도\" : 500, \"딸기\" : 700}\n",
    "print(data)\n",
    "print(type(data))"
   ]
  },
  {
   "cell_type": "markdown",
   "metadata": {},
   "source": [
    "### 딕셔너리를 이용해 연산하기"
   ]
  },
  {
   "cell_type": "markdown",
   "metadata": {},
   "source": [
    "- 항목 검색 : get 함수, data[key]"
   ]
  },
  {
   "cell_type": "code",
   "execution_count": 28,
   "metadata": {},
   "outputs": [
    {
     "name": "stdout",
     "output_type": "stream",
     "text": [
      "300\n",
      "300\n"
     ]
    }
   ],
   "source": [
    "# 딕셔너리 데이터 예제를 data 변수에 입력\n",
    "data = {\"사과\":300, \"배\": 200, \"포도\":500, \"딸기\":700}\n",
    "\n",
    "# 항목 검색을 할 때 항목의 키를 사용하면 됨\n",
    "# 위에서 키값 중 사과에 대한 값을 갖고 옴\n",
    "print(data[\"사과\"])\n",
    "\n",
    "# 위와 같이 표현도 가능하지만 아래와 같이 get함수를 이용해 표현도 가능\n",
    "print(data.get(\"사과\"))"
   ]
  },
  {
   "cell_type": "markdown",
   "metadata": {},
   "source": [
    "- 항목 추가 : data[key] = value"
   ]
  },
  {
   "cell_type": "code",
   "execution_count": null,
   "metadata": {},
   "outputs": [],
   "source": [
    "# 딕셔너리 데이터 예제를 data변수에 입력\n",
    "data = {\"사과\": 300, \"배\":200, \"포도\": 500, \"딸기\": 700}\n",
    "print(\"추가하기 전 딕셔너리 전체 데이터\")\n",
    "print(data)\n",
    "\n",
    "print()\n",
    "\n",
    "# 딕셔너리에 데이터를 추가할 때는 아래와 같이 키를 설정하고 값을 입력함\n",
    "data[\"메론\"] = 1000\n",
    "print(\"추가한 후 딕셔너리 전체 데이터\")\n",
    "print(data)\n"
   ]
  },
  {
   "cell_type": "markdown",
   "metadata": {},
   "source": [
    "- 항목 삭제 : pop 함수"
   ]
  },
  {
   "cell_type": "code",
   "execution_count": 30,
   "metadata": {},
   "outputs": [
    {
     "name": "stdout",
     "output_type": "stream",
     "text": [
      "삭제하기 전 딕셔너리 전체 데이터\n",
      "{'사과': 300, '배': 200, '포도': 500, '딸기': 700}\n",
      "\n",
      "삭제한 후 딕셔너리 데이터\n",
      "{'배': 200, '포도': 500, '딸기': 700}\n"
     ]
    }
   ],
   "source": [
    "# 딕셔너리 데이터 예제를 data변수에 입력\n",
    "data = {\"사과\": 300, \"배\": 200, \"포도\": 500, \"딸기\": 700}\n",
    "print(\"삭제하기 전 딕셔너리 전체 데이터\")\n",
    "print(data)\n",
    "\n",
    "print()\n",
    "\n",
    "# 딕셔너리는 pop함수를 이용해 데이터를 삭제 가능\n",
    "print(\"삭제한 후 딕셔너리 데이터\")\n",
    "data.pop(\"사과\")\n",
    "print(data)"
   ]
  },
  {
   "cell_type": "markdown",
   "metadata": {},
   "source": [
    "- 항목 정렬 : sorted 함수"
   ]
  },
  {
   "cell_type": "code",
   "execution_count": 31,
   "metadata": {},
   "outputs": [
    {
     "name": "stdout",
     "output_type": "stream",
     "text": [
      "정렬하기 전 딕셔너리 전체 데이터\n",
      "{'사과': 300, '배': 200, '포도': 500, '딸기': 700}\n",
      "\n",
      "['딸기', '배', '사과', '포도']\n",
      "\n",
      "[200, 300, 500, 700]\n"
     ]
    }
   ],
   "source": [
    "data = {\"사과\": 300, \"배\": 200, \"포도\": 500, \"딸기\": 700}\n",
    "print(\"정렬하기 전 딕셔너리 전체 데이터\")\n",
    "print(data)\n",
    "\n",
    "print()\n",
    "# sorted는 항목을 정렬시키는 내장함수\n",
    "print(sorted(data))\n",
    "\n",
    "# value값을 이용해 정렬하고 싶으면 아래와 같이 실행\n",
    "print()\n",
    "print(sorted(data.values()))"
   ]
  },
  {
   "cell_type": "code",
   "execution_count": null,
   "metadata": {},
   "outputs": [],
   "source": []
  }
 ],
 "metadata": {
  "kernelspec": {
   "display_name": "Python 3",
   "language": "python",
   "name": "python3"
  },
  "language_info": {
   "codemirror_mode": {
    "name": "ipython",
    "version": 3
   },
   "file_extension": ".py",
   "mimetype": "text/x-python",
   "name": "python",
   "nbconvert_exporter": "python",
   "pygments_lexer": "ipython3",
   "version": "3.7.1"
  }
 },
 "nbformat": 4,
 "nbformat_minor": 2
}
